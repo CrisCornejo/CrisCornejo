{
 "cells": [
  {
   "cell_type": "code",
   "execution_count": 38,
   "metadata": {},
   "outputs": [],
   "source": [
    "import scipy as sp\n",
    " \n",
    "from scipy import interpolate\n",
    " \n",
    "import matplotlib.pyplot as plt\n"
   ]
  },
  {
   "cell_type": "code",
   "execution_count": 39,
   "metadata": {},
   "outputs": [
    {
     "name": "stderr",
     "output_type": "stream",
     "text": [
      "/var/folders/cv/d__dx_557kg_0k75cfkhppcr0000gn/T/ipykernel_5841/4197626208.py:3: DeprecationWarning: scipy.linspace is deprecated and will be removed in SciPy 2.0.0, use numpy.linspace instead\n",
      "  x = sp.linspace(0,3,10)\n"
     ]
    }
   ],
   "source": [
    "#array\n",
    " \n",
    "x = sp.linspace(0,3,10)\n",
    " "
   ]
  },
  {
   "cell_type": "code",
   "execution_count": 40,
   "metadata": {},
   "outputs": [
    {
     "name": "stderr",
     "output_type": "stream",
     "text": [
      "/var/folders/cv/d__dx_557kg_0k75cfkhppcr0000gn/T/ipykernel_5841/654397340.py:3: DeprecationWarning: scipy.exp is deprecated and will be removed in SciPy 2.0.0, use numpy.exp instead\n",
      "  y = sp.exp(-x/2.0)\n"
     ]
    }
   ],
   "source": [
    "# generar datos\n",
    " \n",
    "y = sp.exp(-x/2.0)\n",
    " "
   ]
  },
  {
   "cell_type": "code",
   "execution_count": 41,
   "metadata": {},
   "outputs": [],
   "source": [
    " \n",
    "interpolacion = interpolate.interp1d(x, y)\n",
    " "
   ]
  },
  {
   "cell_type": "code",
   "execution_count": 49,
   "metadata": {},
   "outputs": [
    {
     "name": "stderr",
     "output_type": "stream",
     "text": [
      "/var/folders/cv/d__dx_557kg_0k75cfkhppcr0000gn/T/ipykernel_5841/3203320697.py:3: DeprecationWarning: scipy.linspace is deprecated and will be removed in SciPy 2.0.0, use numpy.linspace instead\n",
      "  x2 = sp.linspace(0,3,1000)\n"
     ]
    }
   ],
   "source": [
    "# array con más puntos \n",
    " \n",
    "x2 = sp.linspace(0,3,1000)\n"
   ]
  },
  {
   "cell_type": "code",
   "execution_count": 50,
   "metadata": {},
   "outputs": [],
   "source": [
    " \n",
    "# Evaluación\n",
    " \n",
    "y2 = interpolacion(x2)\n",
    " \n"
   ]
  },
  {
   "cell_type": "code",
   "execution_count": 51,
   "metadata": {},
   "outputs": [
    {
     "data": {
      "image/png": "[encoded data removed]",
      "text/plain": [
       "<Figure size 432x288 with 1 Axes>"
      ]
     },
     "metadata": {
      "needs_background": "light"
     },
     "output_type": "display_data"
    }
   ],
   "source": [
    "plt.figure\n",
    " \n",
    "plt.plot(x, y, 'ok')\n",
    " \n",
    "plt.plot(x2, y2, '-c')\n",
    " \n",
    "plt.legend(('Datos conocidos', 'Datos experimentales'))\n",
    " \n",
    "plt.show()"
   ]
  }
 ],
 "metadata": {
  "interpreter": {
   "hash": "aee8b7b246df8f9039afb4144a1f6fd8d2ca17a180786b69acc140d282b71a49"
  },
  "kernelspec": {
   "display_name": "Python 3.9.9 64-bit",
   "language": "python",
   "name": "python3"
  },
  "language_info": {
   "codemirror_mode": {
    "name": "ipython",
    "version": 3
   },
   "file_extension": ".py",
   "mimetype": "text/x-python",
   "name": "python",
   "nbconvert_exporter": "python",
   "pygments_lexer": "ipython3",
   "version": "3.9.9"
  },
  "orig_nbformat": 4
 },
 "nbformat": 4,
 "nbformat_minor": 2
}
