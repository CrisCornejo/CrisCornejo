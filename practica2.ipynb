{
  "cells": [
    {
      "cell_type": "markdown",
      "id": "848b64b1",
      "metadata": {
        "id": "848b64b1"
      },
      "source": [
        "# Práctica 2\n",
        "* Puede resolver aquí los ejercicios abriendo una celda después de cada uno de los enunciados.  \n",
        "* Por favor, documente la solución de los ejercicios añadiendo suficientes **comentarios** del programador que expliquen el código."
      ]
    },
    {
      "cell_type": "markdown",
      "id": "2a4b20c9",
      "metadata": {
        "id": "2a4b20c9"
      },
      "source": [
        "## Ejercicio 2.1. El objeto persona\n",
        "* Crear la clase Persona con los atributos:\n",
        " - nombre\n",
        " - edad\n",
        " - profesión\n",
        " - altura\n",
        " - ciudad y \n",
        " - otro de su elección.  \n",
        "* Crear un par de objetos Persona.  \n",
        "* Finalmente deseamos que cada persona nos cuente algo de su vida.  \n",
        "* Establezca y utilice el método especial \\_\\_str\\_\\_."
      ]
    },
    {
      "cell_type": "code",
      "execution_count": 15,
      "id": "1f92f558",
      "metadata": {},
      "outputs": [
        {
          "name": "stdout",
          "output_type": "stream",
          "text": [
            "Pedro, 22, Jardinero, 170, Madrid, es rubio\n",
            "Carmen , 31,  Profesora, 156, Sevilla, es pelirroja\n"
          ]
        }
      ],
      "source": [
        "class Persona():\n",
        "\n",
        "    #definir las características comunes\n",
        "    def __init__(self, nombre, edad, profesion, altura, ciudad, pelo):\n",
        "\n",
        "        self.nombre=nombre\n",
        "        self.edad=edad\n",
        "        self.profesion=profesion\n",
        "        self.altura=altura\n",
        "        self.ciudad=ciudad\n",
        "        self.pelo=pelo\n",
        "    def __str__(self):\n",
        "        cadena=self.nombre+ \",\"+self.edad+ \",\"+self.profesion+ \",\"+self.altura+ \",\"+self.ciudad+ \",\"+self.pelo\n",
        "        return cadena\n",
        "            #print (f\"Nombre: {self.nombre}, edad: {self.edad}, profesión: {self.profesion}, altura: {self.altura}, ciudad: {self.ciudad}, pelo: {self.pelo}\") \n",
        "\n",
        "persona1=Persona(\"Pedro\", \" 22\", \" Jardinero\", \" 170\", \" Madrid\", \" es rubio\")\n",
        "print(persona1)\n",
        "\n",
        "persona2=Persona(\"Carmen \", \" 31\", \"  Profesora\", \" 156\", \" Sevilla\", \" es pelirroja\")\n",
        "print(persona2)\n",
        "\n"
      ]
    },
    {
      "cell_type": "markdown",
      "id": "8bdb087c",
      "metadata": {
        "id": "8bdb087c"
      },
      "source": [
        "## Ejercicio 2.2. El objeto tarjeta de crédito\n",
        "* Crear la clase Tarjeta y dotarla de una serie de atributos y métodos. \n",
        "* Crear tres instancias\n",
        " - ordenarlas por su límite de crédito\n",
        " - verificar si han llegado o no a su límite de crédito  \n",
        "* Algunos de los atributos creados serán de clase y otros serán atributos de instancia.\n",
        "* Procurar que los atributos sean privados."
      ]
    },
    {
      "cell_type": "code",
      "execution_count": 18,
      "id": "d1adc12b",
      "metadata": {},
      "outputs": [
        {
          "name": "stdout",
          "output_type": "stream",
          "text": [
            "Primera tarjeta: \n",
            "Color:  Rojo \n",
            "Banco:  ING \n",
            "Procesador de pago:  Visa \n",
            "¿Pasa el límite?  True\n",
            "Segunda tarjeta: \n",
            "Color:  Blanca \n",
            "Banco:  Santander \n",
            "Procesador de pago:  MasterCard \n",
            "¿Pasa el límite?  False \n",
            "Fecha de caducidad:  2022\n",
            "Tercera tarjeta: \n",
            "Color:  Naranja \n",
            "Banco:  La Caixa \n",
            "Procesador de pago:  Visa \n",
            "¿Pasa el límite?  True\n"
          ]
        }
      ],
      "source": [
        "class Tarjeta: \n",
        "    def __init__ (self, color, banco,procesador_pago):\n",
        "        self.color=color\n",
        "        self.banco=banco\n",
        "        self.procesador_pago=procesador_pago\n",
        "        self.limite=False\n",
        "\n",
        "    def limites (self, lim_max):\n",
        "        self.limite=lim_max\n",
        "        if(self.limite):\n",
        "            return \"Se ha superado el límite\"\n",
        "\n",
        "        else:\n",
        "            return \"No se ha superado el límite\"\n",
        "\n",
        "    def estado (self):\n",
        "        print (\"Color: \", self.color, \"\\nBanco: \", self.banco, \"\\nProcesador de pago: \", self.procesador_pago, \"\\n¿Pasa el límite? \", self.limite)\n",
        "\n",
        "class Tarjeta1 (Tarjeta):\n",
        "    pass\n",
        "print(\"Primera tarjeta: \")\n",
        "primera_Tarjeta=Tarjeta1(\"Rojo\", \"ING\", \"Visa\")\n",
        "\n",
        "primera_Tarjeta.limites (True)\n",
        "\n",
        "primera_Tarjeta.estado()\n",
        "\n",
        "\n",
        "\n",
        "class Tarjeta2 (Tarjeta):\n",
        "    caducidad=\"2022\"\n",
        "    def caduca (self):\n",
        "        self.caducidad= \"2022\"\n",
        "    \n",
        "    def estado (self):\n",
        "        print (\"Color: \", self.color, \"\\nBanco: \", self.banco, \"\\nProcesador de pago: \", self.procesador_pago, \"\\n¿Pasa el límite? \", self.limite, \"\\nFecha de caducidad: \", self.caducidad)\n",
        "\n",
        "   \n",
        "print(\"Segunda tarjeta: \")\n",
        "segunda_tarjeta=Tarjeta2(\"Blanca\", \"Santander\", \"MasterCard\")\n",
        "segunda_tarjeta.estado()\n",
        "\n",
        "\n",
        "class Tarjeta3(Tarjeta):\n",
        "    pass\n",
        "print (\"Tercera tarjeta: \")\n",
        "\n",
        "tercera_tarjeta=Tarjeta3(\"Naranja\", \"La Caixa\", \"Visa\")\n",
        "tercera_tarjeta.limites(True)\n",
        "tercera_tarjeta.estado()"
      ]
    },
    {
      "cell_type": "markdown",
      "id": "43de316c",
      "metadata": {
        "id": "43de316c"
      },
      "source": [
        "## Ejercicio 2.3. Objetos geométricos\n",
        "* Crear la clase **Rectángulo** con los atributos ancho, largo.\n",
        " - Incluir en el método **constructor** los argumentos ancho y largo.\n",
        " - Crear un método para calcular el **área** del rectángulo y otro para calcular su **perímetro**.\n",
        "* Crear la clase **Circulo**.\n",
        " - Incluir en el método **constructor** el argumento **radio**.\n",
        " - Crear un método para calcular el **área** del círculo y otro para calcular su **perímetro**.\n",
        " - Para usar **PI** utilice ```math.pi```\n",
        "* Crear dos objetos del tipo rectángulo y otros dos objetos del tipo circulo\n",
        " - proporcione valores aleatorios a sus parámetros\n",
        " - calcule sus superficies y perímetros redondeando a dos decimales"
      ]
    },
    {
      "cell_type": "code",
      "execution_count": 2,
      "id": "2d33324e",
      "metadata": {},
      "outputs": [
        {
          "data": {
            "text/plain": [
              "103.67255756846318"
            ]
          },
          "execution_count": 2,
          "metadata": {},
          "output_type": "execute_result"
        }
      ],
      "source": [
        "class Rectangulo:\n",
        "    def __init__(self, ancho, largo):\n",
        "        self.ancho=ancho\n",
        "        self.largo=largo\n",
        "\n",
        "    def area(self):\n",
        "        area=self.ancho*self.largo\n",
        "        return area\n",
        "\n",
        "    def perimetro (self):\n",
        "        perimetro= (self.ancho*2)+(self.largo*2)\n",
        "        return perimetro\n",
        "\n",
        "import math\n",
        "\n",
        "class Circulo:\n",
        "    def __init__ (self, radio):\n",
        "        self.radio=radio\n",
        "    \n",
        "    def area(self):\n",
        "        area=(self.radio**2)*math.pi\n",
        "        return area\n",
        "\n",
        "    def perimetro (self):\n",
        "        perimetro=self.radio*2*math.pi\n",
        "        return perimetro\n",
        "\n",
        "\n",
        "import random\n",
        "class Rectangulo1 (Rectangulo):\n",
        "    pass\n",
        "\n",
        "ancho1=random.uniform(2,10)\n",
        "redondeado1=round(ancho1,2)\n",
        "\n",
        "largo1=random.uniform(3,14)\n",
        "redondeado2=round(largo1,2)\n",
        "\n",
        "primer_rectangulo=Rectangulo(redondeado1, redondeado2)\n",
        "\n",
        "primer_rectangulo.area()\n",
        "primer_rectangulo.perimetro()\n",
        "\n",
        "class Rectangulo2 (Rectangulo):\n",
        "    pass\n",
        "\n",
        "\n",
        "ancho2=random.uniform(1,11)\n",
        "redondeado3=round(ancho2,2)\n",
        "\n",
        "largo2=random.uniform(1,15)\n",
        "redondeado4=round(largo2,2)\n",
        "\n",
        "segundo_rectangulo=Rectangulo(redondeado3, redondeado4)\n",
        "\n",
        "segundo_rectangulo.area()\n",
        "segundo_rectangulo.perimetro()\n",
        "import math\n",
        "class Circulo1 (Circulo):\n",
        "    pass\n",
        "\n",
        "radio1=random.uniform(4,10)\n",
        "redondeado5=round(radio1,2)\n",
        "\n",
        "primer_circulo=Circulo(redondeado5)\n",
        "\n",
        "primer_circulo.area()\n",
        "primer_circulo.perimetro()\n",
        "\n",
        "class Circulo1 (Circulo):\n",
        "    pass\n",
        "\n",
        "radio2=random.uniform(5,20)\n",
        "redondeado6=round(radio2,2)\n",
        "\n",
        "segundo_circulo=Circulo(redondeado6)\n",
        "segundo_circulo.area()\n",
        "segundo_circulo.perimetro()"
      ]
    },
    {
      "cell_type": "markdown",
      "id": "3a83c955",
      "metadata": {
        "id": "3a83c955"
      },
      "source": [
        "## Ejercicio 2.4. Coordenadas cartesianas\n",
        "* Cree una clase llamada **Punto** con sus dos coordenadas X e Y.\n",
        " - Implemente el método **constructor** para crear puntos fácilmente. Si no se recibe una coordenada, su valor será cero.\n",
        " - Sobrescriba el método **string** ```__str__```, para que al imprimir por pantalla un punto aparezca en formato (X,Y)\n",
        " - Implemente el método **cuadrante** que indicará a qué cuadrante pertenece el punto, o si es el origen.\n",
        " - Implemente el método **vector**, que toma otro punto y calcula el vector resultante entre los dos puntos.\n",
        " - Implemente el método **distancia**, que toma otro punto y calcule la distancia entre ambos puntos.\n",
        "* Cree una clase llamada **Rectangulo** con dos puntos (inicial y final) que formarán la diagonal del rectángulo.\n",
        " - Implemente el método **constructor** para crear ambos puntos fácilmente, si no se reciben, por defecto, se crearán dos puntos en el origen.\n",
        " - Implemente el método **base** que muestre la base.\n",
        " - Implemente el método **altura** que muestre la altura.\n",
        " - Implemente el método **area** que muestre el área.\n",
        "* Instancie los puntos A(3, 4),  B(-6,6), C(-2, -1) y D(0,0) y muéstrelos en pantalla.\n",
        "* Consulte a que cuadrante pertenecen los puntos A, C y D.\n",
        "* Muestre los vectores AB y BA.\n",
        "* Calcule la distancia entre los puntos 'A y B' y 'B y A'. \n",
        "* Determine cuál de los 3 puntos A, B o C, se encuentra más alejado del origen. \n",
        "* Cree un rectángulo utilizando los puntos A y B.\n",
        "* Muestre la base, altura y área del rectángulo."
      ]
    },
    {
      "cell_type": "code",
      "execution_count": null,
      "id": "4f69267b",
      "metadata": {},
      "outputs": [],
      "source": [
        "\n"
      ]
    },
    {
      "cell_type": "markdown",
      "id": "c9031a0c",
      "metadata": {
        "id": "c9031a0c"
      },
      "source": [
        "## Ejercicio 2.5. Importar un módulo que trabaja con matrices\n",
        "* Inicializar el generador de números aleatorios con ```random.seed()```\n",
        "* Crear dos funciones:\n",
        " - Función 1. Genera una matriz de dimensión n × m donde, por defecto, las filas son n=3 y las columnas son m=4. Los elementos de la matriz contendrán números aleatorios entre 1 y 9. La función retorna la matriz generada.\n",
        " - Función 2. Tomar la matriz anterior y sustituir los valores pares por 1 y los impares por 0. La función retorna la matriz de ceros y unos generada. \n",
        "*Al ejecutar el procedimiento principal:\n",
        " - Mostrar la matriz generada por la función 1.\n",
        " - Mostrar la matriz generada por la función 2.\n",
        "* Usar el condicional ```if __name__ == \"__main__\"``` que permite convertir el archivo .py en un **módulo** que se pueda importar desde otros archivos y así poder usar las funciones creadas como si se tratara de una librería.\n",
        "\n",
        "![matriz_01.png](https://github.com/financieras/pyCourse/blob/main/jupyter/img/matriz_01.png?raw=1)"
      ]
    },
    {
      "cell_type": "markdown",
      "id": "3ceeeced",
      "metadata": {
        "id": "3ceeeced"
      },
      "source": [
        "## Ejercicio 2.6. Hacer ceros en una matriz\n",
        "Usando programación orientada a objetos.  \n",
        "Generar y mostrar una matriz inicial de ceros y unos distribuidos aleatoriamente.\n",
        "* Los atributos son las filas (por defecto 5), columnas (por defecto 5) y probabilidad (por defecto, 0.1).\n",
        "* La probabilidad, en tanto por uno, es la probabilidad de que un elemento de la matriz inicial sea cero.\n",
        "* La matriz de salida se obtiene convirtiendo  en ceros toda la fila y columna donde se encuentre un cero en la matriz inicial.\n",
        "\n",
        "**Ejemplo**  \n",
        "Matriz inicial: [[1, 1, 1, 1, 1, 1], [1, 1, 0, 1, 1, 1], [1, 1, 1, 1, 1, 1], [1, 1, 0, 1, 1, 1], [1, 0, 1, 1, 1, 1], [1, 1, 1, 1, 1, 1]]  \n",
        "Matriz final: &nbsp;&nbsp;[[1, 0, 0, 1, 1, 1], [0, 0, 0, 0, 0, 0], [1, 0, 0, 1, 1, 1], [0, 0, 0, 0, 0, 0], [0, 0, 0, 0, 0, 0], [1, 0, 0, 1, 1, 1]]\n",
        "\n",
        "<img src=\"https://github.com/financieras/pyCourse/blob/main/jupyter/img/zeroes.png?raw=1\" width=\"600\">"
      ]
    },
    {
      "cell_type": "markdown",
      "id": "030b3ac8",
      "metadata": {
        "id": "030b3ac8"
      },
      "source": [
        "## Ejercicio 2.7. POO\n",
        "Utilizando programación orientada a objetos cree un caso de su elección. Explique con detalle lo que se pretende desarrollar y añada suficientes comentarios del programador para dotar el código de las explicaciones necesarias."
      ]
    }
  ],
  "metadata": {
    "colab": {
      "name": "practica2.ipynb",
      "provenance": []
    },
    "kernelspec": {
      "display_name": "Python 3 (ipykernel)",
      "language": "python",
      "name": "python3"
    },
    "language_info": {
      "codemirror_mode": {
        "name": "ipython",
        "version": 3
      },
      "file_extension": ".py",
      "mimetype": "text/x-python",
      "name": "python",
      "nbconvert_exporter": "python",
      "pygments_lexer": "ipython3",
      "version": "3.8.9"
    }
  },
  "nbformat": 4,
  "nbformat_minor": 5
}
